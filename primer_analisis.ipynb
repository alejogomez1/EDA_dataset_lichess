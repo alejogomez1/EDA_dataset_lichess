{
 "cells": [
  {
   "cell_type": "markdown",
   "id": "6057f741",
   "metadata": {},
   "source": [
    "# Análisis de un DataSet de Ajedrez"
   ]
  },
  {
   "cell_type": "markdown",
   "id": "de2419b5",
   "metadata": {},
   "source": [
    "Tomamos un dataset en Kaggle que registra cerca de 20000 partidas de ajedrez que se jugaron en la plataforma [lichess](https://lichess.org/http:// \"lichess\")."
   ]
  },
  {
   "cell_type": "code",
   "execution_count": 3,
   "id": "0b9c6d08",
   "metadata": {},
   "outputs": [],
   "source": [
    "#Importamos las librerias necesarias para realizar un análisis exploratorio de los datos (EDA)\n",
    "import pandas as pd\n",
    "import numpy as np\n",
    "import matplotlib.pyplot as plt\n",
    "import seaborn as sns\n",
    "\n",
    "#Configuración la presentación de los números flotantes de pandas\n",
    "pd.options.display.float_format = '{:,.2f}'.format\n",
    "\n",
    "#Configuramos el estilo de las gráficas de seaborn\n",
    "sns.set(style='whitegrid', context='notebook')"
   ]
  },
  {
   "cell_type": "code",
   "execution_count": 4,
   "id": "22cc95c0",
   "metadata": {
    "scrolled": true
   },
   "outputs": [
    {
     "data": {
      "text/html": [
       "<div>\n",
       "<style scoped>\n",
       "    .dataframe tbody tr th:only-of-type {\n",
       "        vertical-align: middle;\n",
       "    }\n",
       "\n",
       "    .dataframe tbody tr th {\n",
       "        vertical-align: top;\n",
       "    }\n",
       "\n",
       "    .dataframe thead th {\n",
       "        text-align: right;\n",
       "    }\n",
       "</style>\n",
       "<table border=\"1\" class=\"dataframe\">\n",
       "  <thead>\n",
       "    <tr style=\"text-align: right;\">\n",
       "      <th></th>\n",
       "      <th>id</th>\n",
       "      <th>rated</th>\n",
       "      <th>created_at</th>\n",
       "      <th>last_move_at</th>\n",
       "      <th>turns</th>\n",
       "      <th>victory_status</th>\n",
       "      <th>winner</th>\n",
       "      <th>increment_code</th>\n",
       "      <th>white_id</th>\n",
       "      <th>white_rating</th>\n",
       "      <th>black_id</th>\n",
       "      <th>black_rating</th>\n",
       "      <th>moves</th>\n",
       "      <th>opening_eco</th>\n",
       "      <th>opening_name</th>\n",
       "      <th>opening_ply</th>\n",
       "    </tr>\n",
       "  </thead>\n",
       "  <tbody>\n",
       "    <tr>\n",
       "      <th>0</th>\n",
       "      <td>TZJHLljE</td>\n",
       "      <td>False</td>\n",
       "      <td>1,504,210,000,000.00</td>\n",
       "      <td>1,504,210,000,000.00</td>\n",
       "      <td>13</td>\n",
       "      <td>outoftime</td>\n",
       "      <td>white</td>\n",
       "      <td>15+2</td>\n",
       "      <td>bourgris</td>\n",
       "      <td>1500</td>\n",
       "      <td>a-00</td>\n",
       "      <td>1191</td>\n",
       "      <td>d4 d5 c4 c6 cxd5 e6 dxe6 fxe6 Nf3 Bb4+ Nc3 Ba5...</td>\n",
       "      <td>D10</td>\n",
       "      <td>Slav Defense: Exchange Variation</td>\n",
       "      <td>5</td>\n",
       "    </tr>\n",
       "    <tr>\n",
       "      <th>1</th>\n",
       "      <td>l1NXvwaE</td>\n",
       "      <td>True</td>\n",
       "      <td>1,504,130,000,000.00</td>\n",
       "      <td>1,504,130,000,000.00</td>\n",
       "      <td>16</td>\n",
       "      <td>resign</td>\n",
       "      <td>black</td>\n",
       "      <td>5+10</td>\n",
       "      <td>a-00</td>\n",
       "      <td>1322</td>\n",
       "      <td>skinnerua</td>\n",
       "      <td>1261</td>\n",
       "      <td>d4 Nc6 e4 e5 f4 f6 dxe5 fxe5 fxe5 Nxe5 Qd4 Nc6...</td>\n",
       "      <td>B00</td>\n",
       "      <td>Nimzowitsch Defense: Kennedy Variation</td>\n",
       "      <td>4</td>\n",
       "    </tr>\n",
       "  </tbody>\n",
       "</table>\n",
       "</div>"
      ],
      "text/plain": [
       "         id  rated           created_at         last_move_at  turns  \\\n",
       "0  TZJHLljE  False 1,504,210,000,000.00 1,504,210,000,000.00     13   \n",
       "1  l1NXvwaE   True 1,504,130,000,000.00 1,504,130,000,000.00     16   \n",
       "\n",
       "  victory_status winner increment_code  white_id  white_rating   black_id  \\\n",
       "0      outoftime  white           15+2  bourgris          1500       a-00   \n",
       "1         resign  black           5+10      a-00          1322  skinnerua   \n",
       "\n",
       "   black_rating                                              moves  \\\n",
       "0          1191  d4 d5 c4 c6 cxd5 e6 dxe6 fxe6 Nf3 Bb4+ Nc3 Ba5...   \n",
       "1          1261  d4 Nc6 e4 e5 f4 f6 dxe5 fxe5 fxe5 Nxe5 Qd4 Nc6...   \n",
       "\n",
       "  opening_eco                            opening_name  opening_ply  \n",
       "0         D10        Slav Defense: Exchange Variation            5  \n",
       "1         B00  Nimzowitsch Defense: Kennedy Variation            4  "
      ]
     },
     "execution_count": 4,
     "metadata": {},
     "output_type": "execute_result"
    }
   ],
   "source": [
    "#Importamos el dataset\n",
    "data_set = pd.read_csv('Data/chess_games.csv')\n",
    "data_set.head(2)"
   ]
  },
  {
   "cell_type": "code",
   "execution_count": 5,
   "id": "ae03a114",
   "metadata": {},
   "outputs": [
    {
     "data": {
      "text/plain": [
       "((20058, 16),\n",
       " Index(['id', 'rated', 'created_at', 'last_move_at', 'turns', 'victory_status',\n",
       "        'winner', 'increment_code', 'white_id', 'white_rating', 'black_id',\n",
       "        'black_rating', 'moves', 'opening_eco', 'opening_name', 'opening_ply'],\n",
       "       dtype='object'))"
      ]
     },
     "execution_count": 5,
     "metadata": {},
     "output_type": "execute_result"
    }
   ],
   "source": [
    "#Dimensión del dataset y nombres de las columnas\n",
    "data_set.shape , data_set.columns"
   ]
  },
  {
   "cell_type": "markdown",
   "id": "05f32e32",
   "metadata": {},
   "source": [
    "## Información general del DataSet (En inglés)"
   ]
  },
  {
   "cell_type": "markdown",
   "id": "fe7a720a",
   "metadata": {},
   "source": [
    "### General Info\n",
    "This is a set of just over 20,000 games collected from a selection of users on the site Lichess.org, and how to collect more. I will also upload more games in the future as I collect them. This set contains the:\n",
    "- Game ID;\n",
    "- Rated (T/F);\n",
    "- Start Time;\n",
    "- End Time;\n",
    "- Number of Turns;\n",
    "- Game Status;\n",
    "- Winner;\n",
    "- Time Increment;\n",
    "- White Player ID;\n",
    "- White Player Rating;\n",
    "- Black Player ID;\n",
    "- Black Player Rating;\n",
    "- All Moves in Standard Chess Notation;\n",
    "- Opening Eco (Standardised Code for any given opening, list [here](http://https://www.365chess.com/eco.php \"here\"));\n",
    "- Opening Name;\n",
    "- Opening Ply (Number of moves in the opening phase)\n",
    "\n",
    "For each of these separate games from Lichess. I collected this data using the Lichess API, which enables collection of any given users game history. The difficult part was collecting usernames to use, however the API also enables dumping of all users in a Lichess team. There are several teams on Lichess with over 1,500 players, so this proved an effective way to get users to collect games from.\n",
    "\n",
    "### Possible Uses\n",
    "Lots of information is contained within a single chess game, let alone a full dataset of multiple games. It is primarily a game of patterns, and data science is all about detecting patterns in data, which is why chess has been one of the most invested in areas of AI in the past. This dataset collects all of the information available from 20,000 games and presents it in a format that is easy to process for analysis of, for example, what allows a player to win as black or white, how much meta (out-of-game) factors affect a game, the relationship between openings and victory for black and white and more."
   ]
  },
  {
   "cell_type": "markdown",
   "id": "b89bd78b",
   "metadata": {},
   "source": [
    "## Análisis General"
   ]
  },
  {
   "cell_type": "code",
   "execution_count": 6,
   "id": "db67b761",
   "metadata": {},
   "outputs": [
    {
     "name": "stdout",
     "output_type": "stream",
     "text": [
      "<class 'pandas.core.frame.DataFrame'>\n",
      "RangeIndex: 20058 entries, 0 to 20057\n",
      "Data columns (total 16 columns):\n",
      " #   Column          Non-Null Count  Dtype  \n",
      "---  ------          --------------  -----  \n",
      " 0   id              20058 non-null  object \n",
      " 1   rated           20058 non-null  bool   \n",
      " 2   created_at      20058 non-null  float64\n",
      " 3   last_move_at    20058 non-null  float64\n",
      " 4   turns           20058 non-null  int64  \n",
      " 5   victory_status  20058 non-null  object \n",
      " 6   winner          20058 non-null  object \n",
      " 7   increment_code  20058 non-null  object \n",
      " 8   white_id        20058 non-null  object \n",
      " 9   white_rating    20058 non-null  int64  \n",
      " 10  black_id        20058 non-null  object \n",
      " 11  black_rating    20058 non-null  int64  \n",
      " 12  moves           20058 non-null  object \n",
      " 13  opening_eco     20058 non-null  object \n",
      " 14  opening_name    20058 non-null  object \n",
      " 15  opening_ply     20058 non-null  int64  \n",
      "dtypes: bool(1), float64(2), int64(4), object(9)\n",
      "memory usage: 2.3+ MB\n"
     ]
    }
   ],
   "source": [
    "#Tipo de variables y cantidad de valores no-nulos\n",
    "data_set.info()"
   ]
  },
  {
   "cell_type": "code",
   "execution_count": 7,
   "id": "4e524b10",
   "metadata": {},
   "outputs": [
    {
     "data": {
      "text/html": [
       "<div>\n",
       "<style scoped>\n",
       "    .dataframe tbody tr th:only-of-type {\n",
       "        vertical-align: middle;\n",
       "    }\n",
       "\n",
       "    .dataframe tbody tr th {\n",
       "        vertical-align: top;\n",
       "    }\n",
       "\n",
       "    .dataframe thead th {\n",
       "        text-align: right;\n",
       "    }\n",
       "</style>\n",
       "<table border=\"1\" class=\"dataframe\">\n",
       "  <thead>\n",
       "    <tr style=\"text-align: right;\">\n",
       "      <th></th>\n",
       "      <th>created_at</th>\n",
       "      <th>last_move_at</th>\n",
       "      <th>turns</th>\n",
       "      <th>white_rating</th>\n",
       "      <th>black_rating</th>\n",
       "      <th>opening_ply</th>\n",
       "    </tr>\n",
       "  </thead>\n",
       "  <tbody>\n",
       "    <tr>\n",
       "      <th>count</th>\n",
       "      <td>20,058.00</td>\n",
       "      <td>20,058.00</td>\n",
       "      <td>20,058.00</td>\n",
       "      <td>20,058.00</td>\n",
       "      <td>20,058.00</td>\n",
       "      <td>20,058.00</td>\n",
       "    </tr>\n",
       "    <tr>\n",
       "      <th>mean</th>\n",
       "      <td>1,483,616,852,629.09</td>\n",
       "      <td>1,483,617,722,336.14</td>\n",
       "      <td>60.47</td>\n",
       "      <td>1,596.63</td>\n",
       "      <td>1,588.83</td>\n",
       "      <td>4.82</td>\n",
       "    </tr>\n",
       "    <tr>\n",
       "      <th>std</th>\n",
       "      <td>28,501,509,421.00</td>\n",
       "      <td>28,501,400,588.89</td>\n",
       "      <td>33.57</td>\n",
       "      <td>291.25</td>\n",
       "      <td>291.04</td>\n",
       "      <td>2.80</td>\n",
       "    </tr>\n",
       "    <tr>\n",
       "      <th>min</th>\n",
       "      <td>1,376,771,633,173.00</td>\n",
       "      <td>1,376,771,863,841.00</td>\n",
       "      <td>1.00</td>\n",
       "      <td>784.00</td>\n",
       "      <td>789.00</td>\n",
       "      <td>1.00</td>\n",
       "    </tr>\n",
       "    <tr>\n",
       "      <th>25%</th>\n",
       "      <td>1,477,547,500,000.00</td>\n",
       "      <td>1,477,547,500,000.00</td>\n",
       "      <td>37.00</td>\n",
       "      <td>1,398.00</td>\n",
       "      <td>1,391.00</td>\n",
       "      <td>3.00</td>\n",
       "    </tr>\n",
       "    <tr>\n",
       "      <th>50%</th>\n",
       "      <td>1,496,010,000,000.00</td>\n",
       "      <td>1,496,010,000,000.00</td>\n",
       "      <td>55.00</td>\n",
       "      <td>1,567.00</td>\n",
       "      <td>1,562.00</td>\n",
       "      <td>4.00</td>\n",
       "    </tr>\n",
       "    <tr>\n",
       "      <th>75%</th>\n",
       "      <td>1,503,170,000,000.00</td>\n",
       "      <td>1,503,170,000,000.00</td>\n",
       "      <td>79.00</td>\n",
       "      <td>1,793.00</td>\n",
       "      <td>1,784.00</td>\n",
       "      <td>6.00</td>\n",
       "    </tr>\n",
       "    <tr>\n",
       "      <th>max</th>\n",
       "      <td>1,504,493,143,790.00</td>\n",
       "      <td>1,504,493,827,262.00</td>\n",
       "      <td>349.00</td>\n",
       "      <td>2,700.00</td>\n",
       "      <td>2,723.00</td>\n",
       "      <td>28.00</td>\n",
       "    </tr>\n",
       "  </tbody>\n",
       "</table>\n",
       "</div>"
      ],
      "text/plain": [
       "                created_at         last_move_at     turns  white_rating  \\\n",
       "count            20,058.00            20,058.00 20,058.00     20,058.00   \n",
       "mean  1,483,616,852,629.09 1,483,617,722,336.14     60.47      1,596.63   \n",
       "std      28,501,509,421.00    28,501,400,588.89     33.57        291.25   \n",
       "min   1,376,771,633,173.00 1,376,771,863,841.00      1.00        784.00   \n",
       "25%   1,477,547,500,000.00 1,477,547,500,000.00     37.00      1,398.00   \n",
       "50%   1,496,010,000,000.00 1,496,010,000,000.00     55.00      1,567.00   \n",
       "75%   1,503,170,000,000.00 1,503,170,000,000.00     79.00      1,793.00   \n",
       "max   1,504,493,143,790.00 1,504,493,827,262.00    349.00      2,700.00   \n",
       "\n",
       "       black_rating  opening_ply  \n",
       "count     20,058.00    20,058.00  \n",
       "mean       1,588.83         4.82  \n",
       "std          291.04         2.80  \n",
       "min          789.00         1.00  \n",
       "25%        1,391.00         3.00  \n",
       "50%        1,562.00         4.00  \n",
       "75%        1,784.00         6.00  \n",
       "max        2,723.00        28.00  "
      ]
     },
     "execution_count": 7,
     "metadata": {},
     "output_type": "execute_result"
    }
   ],
   "source": [
    "#Descripción básica estadística de las variables numéricas\n",
    "data_set.describe()"
   ]
  },
  {
   "cell_type": "markdown",
   "id": "93d89d09",
   "metadata": {},
   "source": [
    "### Conclusiones:\n",
    "Las columnas `created_at` y `last_move_at` quedan pendientes por revisar ya que no ofrecen una información clara."
   ]
  },
  {
   "cell_type": "markdown",
   "id": "74fa34e1-2a6a-4209-97a9-871ad1e4ba4d",
   "metadata": {},
   "source": [
    "## Análisis Unidimensional"
   ]
  },
  {
   "cell_type": "markdown",
   "id": "4b6ebf73",
   "metadata": {},
   "source": [
    "### Columna: id"
   ]
  },
  {
   "cell_type": "code",
   "execution_count": 8,
   "id": "1b4f5716",
   "metadata": {},
   "outputs": [
    {
     "data": {
      "text/plain": [
       "count        20058\n",
       "unique       19113\n",
       "top       XRuQPSzH\n",
       "freq             5\n",
       "Name: id, dtype: object"
      ]
     },
     "execution_count": 8,
     "metadata": {},
     "output_type": "execute_result"
    }
   ],
   "source": [
    "#Una descripción de los valores que se encuentran en la columna id\n",
    "data_set.id.describe()"
   ]
  },
  {
   "cell_type": "code",
   "execution_count": 9,
   "id": "eb0dcc96",
   "metadata": {
    "scrolled": true
   },
   "outputs": [
    {
     "data": {
      "text/html": [
       "<div>\n",
       "<style scoped>\n",
       "    .dataframe tbody tr th:only-of-type {\n",
       "        vertical-align: middle;\n",
       "    }\n",
       "\n",
       "    .dataframe tbody tr th {\n",
       "        vertical-align: top;\n",
       "    }\n",
       "\n",
       "    .dataframe thead th {\n",
       "        text-align: right;\n",
       "    }\n",
       "</style>\n",
       "<table border=\"1\" class=\"dataframe\">\n",
       "  <thead>\n",
       "    <tr style=\"text-align: right;\">\n",
       "      <th></th>\n",
       "      <th>id</th>\n",
       "      <th>rated</th>\n",
       "      <th>created_at</th>\n",
       "      <th>last_move_at</th>\n",
       "      <th>turns</th>\n",
       "      <th>victory_status</th>\n",
       "      <th>winner</th>\n",
       "      <th>increment_code</th>\n",
       "      <th>white_id</th>\n",
       "      <th>white_rating</th>\n",
       "      <th>black_id</th>\n",
       "      <th>black_rating</th>\n",
       "      <th>moves</th>\n",
       "      <th>opening_eco</th>\n",
       "      <th>opening_name</th>\n",
       "      <th>opening_ply</th>\n",
       "    </tr>\n",
       "  </thead>\n",
       "  <tbody>\n",
       "    <tr>\n",
       "      <th>120</th>\n",
       "      <td>XRuQPSzH</td>\n",
       "      <td>True</td>\n",
       "      <td>1,503,580,000,000.00</td>\n",
       "      <td>1,503,580,000,000.00</td>\n",
       "      <td>50</td>\n",
       "      <td>resign</td>\n",
       "      <td>black</td>\n",
       "      <td>10+0</td>\n",
       "      <td>chess-brahs</td>\n",
       "      <td>2036</td>\n",
       "      <td>cdvh</td>\n",
       "      <td>1706</td>\n",
       "      <td>Nf3 d5 g3 c5 Bg2 Nc6 d3 Nf6 O-O e5 Nc3 d4 Ne4 ...</td>\n",
       "      <td>A08</td>\n",
       "      <td>King's Indian Attack: French Variation</td>\n",
       "      <td>6</td>\n",
       "    </tr>\n",
       "    <tr>\n",
       "      <th>950</th>\n",
       "      <td>XRuQPSzH</td>\n",
       "      <td>True</td>\n",
       "      <td>1,503,580,000,000.00</td>\n",
       "      <td>1,503,580,000,000.00</td>\n",
       "      <td>50</td>\n",
       "      <td>resign</td>\n",
       "      <td>black</td>\n",
       "      <td>10+0</td>\n",
       "      <td>chess-brahs</td>\n",
       "      <td>2036</td>\n",
       "      <td>cdvh</td>\n",
       "      <td>1706</td>\n",
       "      <td>Nf3 d5 g3 c5 Bg2 Nc6 d3 Nf6 O-O e5 Nc3 d4 Ne4 ...</td>\n",
       "      <td>A08</td>\n",
       "      <td>King's Indian Attack: French Variation</td>\n",
       "      <td>6</td>\n",
       "    </tr>\n",
       "    <tr>\n",
       "      <th>12412</th>\n",
       "      <td>XRuQPSzH</td>\n",
       "      <td>True</td>\n",
       "      <td>1,503,583,909,935.00</td>\n",
       "      <td>1,503,584,352,561.00</td>\n",
       "      <td>50</td>\n",
       "      <td>resign</td>\n",
       "      <td>black</td>\n",
       "      <td>10+0</td>\n",
       "      <td>chess-brahs</td>\n",
       "      <td>2036</td>\n",
       "      <td>cdvh</td>\n",
       "      <td>1706</td>\n",
       "      <td>Nf3 d5 g3 c5 Bg2 Nc6 d3 Nf6 O-O e5 Nc3 d4 Ne4 ...</td>\n",
       "      <td>A08</td>\n",
       "      <td>King's Indian Attack: French Variation</td>\n",
       "      <td>6</td>\n",
       "    </tr>\n",
       "    <tr>\n",
       "      <th>13729</th>\n",
       "      <td>XRuQPSzH</td>\n",
       "      <td>True</td>\n",
       "      <td>1,503,583,909,935.00</td>\n",
       "      <td>1,503,584,352,561.00</td>\n",
       "      <td>50</td>\n",
       "      <td>resign</td>\n",
       "      <td>black</td>\n",
       "      <td>10+0</td>\n",
       "      <td>chess-brahs</td>\n",
       "      <td>2036</td>\n",
       "      <td>cdvh</td>\n",
       "      <td>1706</td>\n",
       "      <td>Nf3 d5 g3 c5 Bg2 Nc6 d3 Nf6 O-O e5 Nc3 d4 Ne4 ...</td>\n",
       "      <td>A08</td>\n",
       "      <td>King's Indian Attack: French Variation</td>\n",
       "      <td>6</td>\n",
       "    </tr>\n",
       "    <tr>\n",
       "      <th>14403</th>\n",
       "      <td>XRuQPSzH</td>\n",
       "      <td>True</td>\n",
       "      <td>1,503,583,909,935.00</td>\n",
       "      <td>1,503,584,352,561.00</td>\n",
       "      <td>50</td>\n",
       "      <td>resign</td>\n",
       "      <td>black</td>\n",
       "      <td>10+0</td>\n",
       "      <td>chess-brahs</td>\n",
       "      <td>2036</td>\n",
       "      <td>cdvh</td>\n",
       "      <td>1706</td>\n",
       "      <td>Nf3 d5 g3 c5 Bg2 Nc6 d3 Nf6 O-O e5 Nc3 d4 Ne4 ...</td>\n",
       "      <td>A08</td>\n",
       "      <td>King's Indian Attack: French Variation</td>\n",
       "      <td>6</td>\n",
       "    </tr>\n",
       "  </tbody>\n",
       "</table>\n",
       "</div>"
      ],
      "text/plain": [
       "             id  rated           created_at         last_move_at  turns  \\\n",
       "120    XRuQPSzH   True 1,503,580,000,000.00 1,503,580,000,000.00     50   \n",
       "950    XRuQPSzH   True 1,503,580,000,000.00 1,503,580,000,000.00     50   \n",
       "12412  XRuQPSzH   True 1,503,583,909,935.00 1,503,584,352,561.00     50   \n",
       "13729  XRuQPSzH   True 1,503,583,909,935.00 1,503,584,352,561.00     50   \n",
       "14403  XRuQPSzH   True 1,503,583,909,935.00 1,503,584,352,561.00     50   \n",
       "\n",
       "      victory_status winner increment_code     white_id  white_rating  \\\n",
       "120           resign  black           10+0  chess-brahs          2036   \n",
       "950           resign  black           10+0  chess-brahs          2036   \n",
       "12412         resign  black           10+0  chess-brahs          2036   \n",
       "13729         resign  black           10+0  chess-brahs          2036   \n",
       "14403         resign  black           10+0  chess-brahs          2036   \n",
       "\n",
       "      black_id  black_rating  \\\n",
       "120       cdvh          1706   \n",
       "950       cdvh          1706   \n",
       "12412     cdvh          1706   \n",
       "13729     cdvh          1706   \n",
       "14403     cdvh          1706   \n",
       "\n",
       "                                                   moves opening_eco  \\\n",
       "120    Nf3 d5 g3 c5 Bg2 Nc6 d3 Nf6 O-O e5 Nc3 d4 Ne4 ...         A08   \n",
       "950    Nf3 d5 g3 c5 Bg2 Nc6 d3 Nf6 O-O e5 Nc3 d4 Ne4 ...         A08   \n",
       "12412  Nf3 d5 g3 c5 Bg2 Nc6 d3 Nf6 O-O e5 Nc3 d4 Ne4 ...         A08   \n",
       "13729  Nf3 d5 g3 c5 Bg2 Nc6 d3 Nf6 O-O e5 Nc3 d4 Ne4 ...         A08   \n",
       "14403  Nf3 d5 g3 c5 Bg2 Nc6 d3 Nf6 O-O e5 Nc3 d4 Ne4 ...         A08   \n",
       "\n",
       "                                 opening_name  opening_ply  \n",
       "120    King's Indian Attack: French Variation            6  \n",
       "950    King's Indian Attack: French Variation            6  \n",
       "12412  King's Indian Attack: French Variation            6  \n",
       "13729  King's Indian Attack: French Variation            6  \n",
       "14403  King's Indian Attack: French Variation            6  "
      ]
     },
     "execution_count": 9,
     "metadata": {},
     "output_type": "execute_result"
    }
   ],
   "source": [
    "#Se presentan valores repetidos, observamos en particular el id con más frecuencia\n",
    "data_set[data_set['id'] == 'XRuQPSzH']"
   ]
  },
  {
   "cell_type": "code",
   "execution_count": 10,
   "id": "627cebb8",
   "metadata": {},
   "outputs": [
    {
     "data": {
      "text/plain": [
       "(19629, 16)"
      ]
     },
     "execution_count": 10,
     "metadata": {},
     "output_type": "execute_result"
    }
   ],
   "source": [
    "#Eliminamos los registros duplicados\n",
    "data_set = data_set.drop_duplicates()\n",
    "data_set.shape"
   ]
  },
  {
   "cell_type": "code",
   "execution_count": 11,
   "id": "ee8660fc",
   "metadata": {},
   "outputs": [
    {
     "data": {
      "text/plain": [
       "count        19629\n",
       "unique       19113\n",
       "top       WbTSc5pg\n",
       "freq             2\n",
       "Name: id, dtype: object"
      ]
     },
     "execution_count": 11,
     "metadata": {},
     "output_type": "execute_result"
    }
   ],
   "source": [
    "#Volvemos a realizar una descripción de la columna \n",
    "data_set.id.describe()"
   ]
  },
  {
   "cell_type": "code",
   "execution_count": 12,
   "id": "4df83e44",
   "metadata": {},
   "outputs": [
    {
     "data": {
      "text/html": [
       "<div>\n",
       "<style scoped>\n",
       "    .dataframe tbody tr th:only-of-type {\n",
       "        vertical-align: middle;\n",
       "    }\n",
       "\n",
       "    .dataframe tbody tr th {\n",
       "        vertical-align: top;\n",
       "    }\n",
       "\n",
       "    .dataframe thead th {\n",
       "        text-align: right;\n",
       "    }\n",
       "</style>\n",
       "<table border=\"1\" class=\"dataframe\">\n",
       "  <thead>\n",
       "    <tr style=\"text-align: right;\">\n",
       "      <th></th>\n",
       "      <th>id</th>\n",
       "      <th>rated</th>\n",
       "      <th>created_at</th>\n",
       "      <th>last_move_at</th>\n",
       "      <th>turns</th>\n",
       "      <th>victory_status</th>\n",
       "      <th>winner</th>\n",
       "      <th>increment_code</th>\n",
       "      <th>white_id</th>\n",
       "      <th>white_rating</th>\n",
       "      <th>black_id</th>\n",
       "      <th>black_rating</th>\n",
       "      <th>moves</th>\n",
       "      <th>opening_eco</th>\n",
       "      <th>opening_name</th>\n",
       "      <th>opening_ply</th>\n",
       "    </tr>\n",
       "  </thead>\n",
       "  <tbody>\n",
       "    <tr>\n",
       "      <th>6890</th>\n",
       "      <td>WbTSc5pg</td>\n",
       "      <td>True</td>\n",
       "      <td>1,464,840,000,000.00</td>\n",
       "      <td>1,464,840,000,000.00</td>\n",
       "      <td>100</td>\n",
       "      <td>mate</td>\n",
       "      <td>black</td>\n",
       "      <td>14+0</td>\n",
       "      <td>anakgreget</td>\n",
       "      <td>1720</td>\n",
       "      <td>konstantindn</td>\n",
       "      <td>1748</td>\n",
       "      <td>e4 d5 exd5 Qxd5 Nc3 Qd8 Nf3 Bg4 Be2 Bxf3 Bxf3 ...</td>\n",
       "      <td>B01</td>\n",
       "      <td>Scandinavian Defense: Mieses-Kotroc Variation</td>\n",
       "      <td>4</td>\n",
       "    </tr>\n",
       "    <tr>\n",
       "      <th>18636</th>\n",
       "      <td>WbTSc5pg</td>\n",
       "      <td>True</td>\n",
       "      <td>1,464,839,554,230.00</td>\n",
       "      <td>1,464,840,645,871.00</td>\n",
       "      <td>100</td>\n",
       "      <td>mate</td>\n",
       "      <td>black</td>\n",
       "      <td>14+0</td>\n",
       "      <td>anakgreget</td>\n",
       "      <td>1720</td>\n",
       "      <td>konstantindn</td>\n",
       "      <td>1748</td>\n",
       "      <td>e4 d5 exd5 Qxd5 Nc3 Qd8 Nf3 Bg4 Be2 Bxf3 Bxf3 ...</td>\n",
       "      <td>B01</td>\n",
       "      <td>Scandinavian Defense: Mieses-Kotroc Variation</td>\n",
       "      <td>4</td>\n",
       "    </tr>\n",
       "  </tbody>\n",
       "</table>\n",
       "</div>"
      ],
      "text/plain": [
       "             id  rated           created_at         last_move_at  turns  \\\n",
       "6890   WbTSc5pg   True 1,464,840,000,000.00 1,464,840,000,000.00    100   \n",
       "18636  WbTSc5pg   True 1,464,839,554,230.00 1,464,840,645,871.00    100   \n",
       "\n",
       "      victory_status winner increment_code    white_id  white_rating  \\\n",
       "6890            mate  black           14+0  anakgreget          1720   \n",
       "18636           mate  black           14+0  anakgreget          1720   \n",
       "\n",
       "           black_id  black_rating  \\\n",
       "6890   konstantindn          1748   \n",
       "18636  konstantindn          1748   \n",
       "\n",
       "                                                   moves opening_eco  \\\n",
       "6890   e4 d5 exd5 Qxd5 Nc3 Qd8 Nf3 Bg4 Be2 Bxf3 Bxf3 ...         B01   \n",
       "18636  e4 d5 exd5 Qxd5 Nc3 Qd8 Nf3 Bg4 Be2 Bxf3 Bxf3 ...         B01   \n",
       "\n",
       "                                        opening_name  opening_ply  \n",
       "6890   Scandinavian Defense: Mieses-Kotroc Variation            4  \n",
       "18636  Scandinavian Defense: Mieses-Kotroc Variation            4  "
      ]
     },
     "execution_count": 12,
     "metadata": {},
     "output_type": "execute_result"
    }
   ],
   "source": [
    "#Se siguen observando registros duplicados en la columna id\n",
    "#Observamos en particular el id con más frecuencia\n",
    "data_set[data_set['id'] == 'WbTSc5pg']"
   ]
  },
  {
   "cell_type": "code",
   "execution_count": 13,
   "id": "dfb73b30",
   "metadata": {},
   "outputs": [
    {
     "data": {
      "text/plain": [
       "count        19113\n",
       "unique       19113\n",
       "top       TZJHLljE\n",
       "freq             1\n",
       "Name: id, dtype: object"
      ]
     },
     "execution_count": 13,
     "metadata": {},
     "output_type": "execute_result"
    }
   ],
   "source": [
    "#Se presentan valores distintos en las columnas created_at y last_move_at\n",
    "#Eliminamos estas columnas y obsevamos si se siguen presentando registros duplicados\n",
    "data_set.drop(['created_at','last_move_at'], axis=1).drop_duplicates()['id'].describe()"
   ]
  },
  {
   "cell_type": "markdown",
   "id": "1357218b",
   "metadata": {},
   "source": [
    "#### Conclusiones:\n",
    "Si se quiere trabajar con registros únicos a nivel general, es necesario prescindir de las columnas `created_at` y `last_move_at`, ya que se cuentan registros de la misma partida con diferentes valores en estas columnas."
   ]
  },
  {
   "cell_type": "code",
   "execution_count": 14,
   "id": "7fe8dc4d",
   "metadata": {},
   "outputs": [],
   "source": [
    "#Realizamos una copia del dataset prescindiendo de las columnas created_at y last_move_at\n",
    "data_set_copy = data_set.copy()\n",
    "data_set_copy = data_set_copy.drop(['created_at','last_move_at'], axis=1).drop_duplicates()"
   ]
  },
  {
   "cell_type": "markdown",
   "id": "0f4547c1",
   "metadata": {},
   "source": [
    "### Columna: rated"
   ]
  },
  {
   "cell_type": "code",
   "execution_count": 15,
   "id": "1178c698",
   "metadata": {},
   "outputs": [
    {
     "data": {
      "text/plain": [
       "count     19113\n",
       "unique        2\n",
       "top        True\n",
       "freq      15467\n",
       "Name: rated, dtype: object"
      ]
     },
     "execution_count": 15,
     "metadata": {},
     "output_type": "execute_result"
    }
   ],
   "source": [
    "#Descripción de los valores en la columna rated\n",
    "data_set_copy.rated.describe()"
   ]
  },
  {
   "cell_type": "code",
   "execution_count": 16,
   "id": "120a7786",
   "metadata": {
    "scrolled": true
   },
   "outputs": [
    {
     "data": {
      "text/html": [
       "<div>\n",
       "<style scoped>\n",
       "    .dataframe tbody tr th:only-of-type {\n",
       "        vertical-align: middle;\n",
       "    }\n",
       "\n",
       "    .dataframe tbody tr th {\n",
       "        vertical-align: top;\n",
       "    }\n",
       "\n",
       "    .dataframe thead th {\n",
       "        text-align: right;\n",
       "    }\n",
       "</style>\n",
       "<table border=\"1\" class=\"dataframe\">\n",
       "  <thead>\n",
       "    <tr style=\"text-align: right;\">\n",
       "      <th></th>\n",
       "      <th>Total</th>\n",
       "      <th>%</th>\n",
       "    </tr>\n",
       "    <tr>\n",
       "      <th>rated</th>\n",
       "      <th></th>\n",
       "      <th></th>\n",
       "    </tr>\n",
       "  </thead>\n",
       "  <tbody>\n",
       "    <tr>\n",
       "      <th>True</th>\n",
       "      <td>15467</td>\n",
       "      <td>80.92</td>\n",
       "    </tr>\n",
       "    <tr>\n",
       "      <th>False</th>\n",
       "      <td>3646</td>\n",
       "      <td>19.08</td>\n",
       "    </tr>\n",
       "  </tbody>\n",
       "</table>\n",
       "</div>"
      ],
      "text/plain": [
       "       Total     %\n",
       "rated             \n",
       "True   15467 80.92\n",
       "False   3646 19.08"
      ]
     },
     "execution_count": 16,
     "metadata": {},
     "output_type": "execute_result"
    }
   ],
   "source": [
    "#Cantidad de registros por valor\n",
    "values_rated = pd.DataFrame(data_set_copy.rated.value_counts()).rename(columns={\"rated\":\"Total\"})\n",
    "values_rated = values_rated.rename_axis('rated')\n",
    "values_rated['%'] = (values_rated.Total / values_rated.Total.sum()) * 100\n",
    "values_rated"
   ]
  },
  {
   "cell_type": "code",
   "execution_count": 17,
   "id": "8f4c6c8a",
   "metadata": {},
   "outputs": [
    {
     "data": {
      "image/png": "[encoded data removed]",
      "text/plain": [
       "<Figure size 360x360 with 1 Axes>"
      ]
     },
     "metadata": {},
     "output_type": "display_data"
    }
   ],
   "source": [
    "plt.figure(figsize=(5,5))\n",
    "plt.pie(values_rated.Total, labels=['True', 'False'])\n",
    "plt.legend()\n",
    "plt.show()"
   ]
  },
  {
   "cell_type": "markdown",
   "id": "d6340398",
   "metadata": {},
   "source": [
    "#### Conclusiones:\n",
    "Cerca del 80% de las partidas son jugadas de manera que influye en el puntaje(rated) del jugador."
   ]
  },
  {
   "cell_type": "markdown",
   "id": "59e01c64-f762-4653-90b8-86254e36a88d",
   "metadata": {},
   "source": [
    "### Columna: created_at"
   ]
  },
  {
   "cell_type": "code",
   "execution_count": 18,
   "id": "d79b0fe6",
   "metadata": {},
   "outputs": [
    {
     "data": {
      "text/plain": [
       "count              19,629.00\n",
       "mean    1,483,720,725,232.59\n",
       "std        28,093,644,152.72\n",
       "min     1,376,771,633,173.00\n",
       "25%     1,477,530,000,000.00\n",
       "50%     1,495,830,000,000.00\n",
       "75%     1,503,107,489,689.00\n",
       "max     1,504,493,143,790.00\n",
       "Name: created_at, dtype: float64"
      ]
     },
     "execution_count": 18,
     "metadata": {},
     "output_type": "execute_result"
    }
   ],
   "source": [
    "#Breve descripción estadística de los datos\n",
    "data_set.created_at.describe()"
   ]
  },
  {
   "cell_type": "code",
   "execution_count": 19,
   "id": "03d08d54",
   "metadata": {},
   "outputs": [
    {
     "data": {
      "image/png": "[encoded data removed]",
      "text/plain": [
       "<Figure size 720x360 with 1 Axes>"
      ]
     },
     "metadata": {
      "needs_background": "light"
     },
     "output_type": "display_data"
    }
   ],
   "source": [
    "#Observamos la distribución de los valores\n",
    "plt.figure(figsize=(10,5))\n",
    "sns.histplot(data=data_set, x='created_at')\n",
    "plt.show()"
   ]
  },
  {
   "cell_type": "code",
   "execution_count": 20,
   "id": "18c8a67e-55f2-43c8-9272-e8c0884aed3e",
   "metadata": {},
   "outputs": [
    {
     "data": {
      "image/png": "[encoded data removed]",
      "text/plain": [
       "<Figure size 720x360 with 1 Axes>"
      ]
     },
     "metadata": {
      "needs_background": "light"
     },
     "output_type": "display_data"
    }
   ],
   "source": [
    "plt.figure(figsize=(10,5))\n",
    "sns.histplot(data=data_set, x='created_at', cumulative=True)\n",
    "plt.show()"
   ]
  },
  {
   "cell_type": "markdown",
   "id": "8aef0dcb-883f-412b-92d0-2a9b1aaf55d1",
   "metadata": {},
   "source": [
    "### Columna: last_move_at"
   ]
  },
  {
   "cell_type": "code",
   "execution_count": 21,
   "id": "412f99ef-50a6-4bb0-aac1-4ed82fb441e1",
   "metadata": {},
   "outputs": [
    {
     "data": {
      "text/plain": [
       "count              19,629.00\n",
       "mean    1,483,721,594,909.30\n",
       "std        28,093,532,529.26\n",
       "min     1,376,771,863,841.00\n",
       "25%     1,477,530,000,000.00\n",
       "50%     1,495,830,000,000.00\n",
       "75%     1,503,110,000,000.00\n",
       "max     1,504,493,827,262.00\n",
       "Name: last_move_at, dtype: float64"
      ]
     },
     "execution_count": 21,
     "metadata": {},
     "output_type": "execute_result"
    }
   ],
   "source": [
    "#Breve descripción estadística de los datos\n",
    "data_set.last_move_at.describe()"
   ]
  },
  {
   "cell_type": "code",
   "execution_count": 22,
   "id": "180275f6-ef8a-4bba-ae2a-54106d8e4b1e",
   "metadata": {},
   "outputs": [
    {
     "data": {
      "image/png": "[encoded data removed]",
      "text/plain": [
       "<Figure size 720x360 with 1 Axes>"
      ]
     },
     "metadata": {
      "needs_background": "light"
     },
     "output_type": "display_data"
    }
   ],
   "source": [
    "#Observamos la distribución de los valores\n",
    "plt.figure(figsize=(10,5))\n",
    "sns.histplot(data=data_set, x='last_move_at')\n",
    "plt.show()"
   ]
  },
  {
   "cell_type": "code",
   "execution_count": 23,
   "id": "d23b7e0f-8c66-4aa3-b6e8-4ac7165a80e9",
   "metadata": {},
   "outputs": [
    {
     "data": {
      "image/png": "[encoded data removed]",
      "text/plain": [
       "<Figure size 720x360 with 1 Axes>"
      ]
     },
     "metadata": {
      "needs_background": "light"
     },
     "output_type": "display_data"
    }
   ],
   "source": [
    "plt.figure(figsize=(10,5))\n",
    "sns.histplot(data=data_set, x='last_move_at', cumulative=True)\n",
    "plt.show()"
   ]
  },
  {
   "cell_type": "markdown",
   "id": "1f5c0e84-494a-41ee-add4-4ef3bc9b3b99",
   "metadata": {},
   "source": [
    "### Columna: turns"
   ]
  },
  {
   "cell_type": "code",
   "execution_count": 24,
   "id": "da7692e7-1885-4154-8478-94bdbca8be8c",
   "metadata": {},
   "outputs": [
    {
     "data": {
      "text/plain": [
       "count   19,113.00\n",
       "mean        60.51\n",
       "std         33.49\n",
       "min          1.00\n",
       "25%         37.00\n",
       "50%         55.00\n",
       "75%         79.00\n",
       "max        349.00\n",
       "Name: turns, dtype: float64"
      ]
     },
     "execution_count": 24,
     "metadata": {},
     "output_type": "execute_result"
    }
   ],
   "source": [
    "#Una descripción estadística de los datos\n",
    "data_set_copy.turns.describe()"
   ]
  },
  {
   "cell_type": "code",
   "execution_count": 25,
   "id": "627478fd-90cc-4700-98d1-c3edb8fde671",
   "metadata": {
    "scrolled": true
   },
   "outputs": [
    {
     "data": {
      "image/png": "[encoded data removed]",
      "text/plain": [
       "<Figure size 1080x360 with 2 Axes>"
      ]
     },
     "metadata": {
      "needs_background": "light"
     },
     "output_type": "display_data"
    }
   ],
   "source": [
    "#Gráficos que describen la distribución de los datos\n",
    "fig , ax = plt.subplots(1,2, figsize=(15,5))\n",
    "\n",
    "g1 = sns.histplot(data=data_set_copy, x='turns', ax=ax[0])\n",
    "\n",
    "g2 = sns.boxplot(data=data_set_copy, x='turns', ax=ax[1])\n",
    "\n",
    "plt.show()"
   ]
  },
  {
   "cell_type": "code",
   "execution_count": 26,
   "id": "10664f32",
   "metadata": {
    "scrolled": true
   },
   "outputs": [
    {
     "data": {
      "text/html": [
       "<div>\n",
       "<style scoped>\n",
       "    .dataframe tbody tr th:only-of-type {\n",
       "        vertical-align: middle;\n",
       "    }\n",
       "\n",
       "    .dataframe tbody tr th {\n",
       "        vertical-align: top;\n",
       "    }\n",
       "\n",
       "    .dataframe thead th {\n",
       "        text-align: right;\n",
       "    }\n",
       "</style>\n",
       "<table border=\"1\" class=\"dataframe\">\n",
       "  <thead>\n",
       "    <tr style=\"text-align: right;\">\n",
       "      <th></th>\n",
       "      <th>turns</th>\n",
       "      <th>white_rating</th>\n",
       "      <th>black_rating</th>\n",
       "      <th>opening_ply</th>\n",
       "    </tr>\n",
       "  </thead>\n",
       "  <tbody>\n",
       "    <tr>\n",
       "      <th>count</th>\n",
       "      <td>412.00</td>\n",
       "      <td>412.00</td>\n",
       "      <td>412.00</td>\n",
       "      <td>412.00</td>\n",
       "    </tr>\n",
       "    <tr>\n",
       "      <th>mean</th>\n",
       "      <td>161.60</td>\n",
       "      <td>1,696.37</td>\n",
       "      <td>1,702.18</td>\n",
       "      <td>5.07</td>\n",
       "    </tr>\n",
       "    <tr>\n",
       "      <th>std</th>\n",
       "      <td>20.18</td>\n",
       "      <td>281.41</td>\n",
       "      <td>267.29</td>\n",
       "      <td>2.87</td>\n",
       "    </tr>\n",
       "    <tr>\n",
       "      <th>min</th>\n",
       "      <td>143.00</td>\n",
       "      <td>795.00</td>\n",
       "      <td>891.00</td>\n",
       "      <td>1.00</td>\n",
       "    </tr>\n",
       "    <tr>\n",
       "      <th>25%</th>\n",
       "      <td>149.00</td>\n",
       "      <td>1,500.75</td>\n",
       "      <td>1,500.00</td>\n",
       "      <td>3.00</td>\n",
       "    </tr>\n",
       "    <tr>\n",
       "      <th>50%</th>\n",
       "      <td>156.00</td>\n",
       "      <td>1,672.50</td>\n",
       "      <td>1,698.50</td>\n",
       "      <td>4.00</td>\n",
       "    </tr>\n",
       "    <tr>\n",
       "      <th>75%</th>\n",
       "      <td>169.00</td>\n",
       "      <td>1,859.50</td>\n",
       "      <td>1,876.25</td>\n",
       "      <td>7.00</td>\n",
       "    </tr>\n",
       "    <tr>\n",
       "      <th>max</th>\n",
       "      <td>349.00</td>\n",
       "      <td>2,622.00</td>\n",
       "      <td>2,474.00</td>\n",
       "      <td>19.00</td>\n",
       "    </tr>\n",
       "  </tbody>\n",
       "</table>\n",
       "</div>"
      ],
      "text/plain": [
       "       turns  white_rating  black_rating  opening_ply\n",
       "count 412.00        412.00        412.00       412.00\n",
       "mean  161.60      1,696.37      1,702.18         5.07\n",
       "std    20.18        281.41        267.29         2.87\n",
       "min   143.00        795.00        891.00         1.00\n",
       "25%   149.00      1,500.75      1,500.00         3.00\n",
       "50%   156.00      1,672.50      1,698.50         4.00\n",
       "75%   169.00      1,859.50      1,876.25         7.00\n",
       "max   349.00      2,622.00      2,474.00        19.00"
      ]
     },
     "execution_count": 26,
     "metadata": {},
     "output_type": "execute_result"
    }
   ],
   "source": [
    "#Creamos un dataset con los datos que se encuentran desfasados\n",
    "turns_IQR = (data_set_copy.turns.quantile(0.75) - data_set_copy.turns.quantile(0.25))\n",
    "outlayer_turns = data_set_copy[data_set_copy.turns > data_set_copy.turns.quantile(0.75) + 1.5*turns_IQR]\n",
    "#Breve descripción del dataset recien creado\n",
    "outlayer_turns.describe()"
   ]
  },
  {
   "cell_type": "markdown",
   "id": "5badede3",
   "metadata": {},
   "source": [
    "#### Conclusiones:\n",
    "\n",
    "La distrubución de los datos en la columna `turns` tiene una pequeña inclinación hacia la derecha. Se crea un dataset con los outlayers para posteriores análisis."
   ]
  },
  {
   "cell_type": "markdown",
   "id": "791159ed",
   "metadata": {},
   "source": [
    "### Columna: victory status"
   ]
  },
  {
   "cell_type": "code",
   "execution_count": 27,
   "id": "189c1da9",
   "metadata": {
    "scrolled": false
   },
   "outputs": [
    {
     "data": {
      "text/plain": [
       "count      19113\n",
       "unique         4\n",
       "top       resign\n",
       "freq       10695\n",
       "Name: victory_status, dtype: object"
      ]
     },
     "execution_count": 27,
     "metadata": {},
     "output_type": "execute_result"
    }
   ],
   "source": [
    "data_set_copy.victory_status.describe()"
   ]
  },
  {
   "cell_type": "code",
   "execution_count": 28,
   "id": "43e4c0f5",
   "metadata": {},
   "outputs": [
    {
     "data": {
      "text/html": [
       "<div>\n",
       "<style scoped>\n",
       "    .dataframe tbody tr th:only-of-type {\n",
       "        vertical-align: middle;\n",
       "    }\n",
       "\n",
       "    .dataframe tbody tr th {\n",
       "        vertical-align: top;\n",
       "    }\n",
       "\n",
       "    .dataframe thead th {\n",
       "        text-align: right;\n",
       "    }\n",
       "</style>\n",
       "<table border=\"1\" class=\"dataframe\">\n",
       "  <thead>\n",
       "    <tr style=\"text-align: right;\">\n",
       "      <th></th>\n",
       "      <th>Total</th>\n",
       "      <th>%</th>\n",
       "    </tr>\n",
       "    <tr>\n",
       "      <th>victory_status</th>\n",
       "      <th></th>\n",
       "      <th></th>\n",
       "    </tr>\n",
       "  </thead>\n",
       "  <tbody>\n",
       "    <tr>\n",
       "      <th>resign</th>\n",
       "      <td>10695</td>\n",
       "      <td>55.96</td>\n",
       "    </tr>\n",
       "    <tr>\n",
       "      <th>mate</th>\n",
       "      <td>5974</td>\n",
       "      <td>31.26</td>\n",
       "    </tr>\n",
       "    <tr>\n",
       "      <th>outoftime</th>\n",
       "      <td>1598</td>\n",
       "      <td>8.36</td>\n",
       "    </tr>\n",
       "    <tr>\n",
       "      <th>draw</th>\n",
       "      <td>846</td>\n",
       "      <td>4.43</td>\n",
       "    </tr>\n",
       "  </tbody>\n",
       "</table>\n",
       "</div>"
      ],
      "text/plain": [
       "                Total     %\n",
       "victory_status             \n",
       "resign          10695 55.96\n",
       "mate             5974 31.26\n",
       "outoftime        1598  8.36\n",
       "draw              846  4.43"
      ]
     },
     "execution_count": 28,
     "metadata": {},
     "output_type": "execute_result"
    }
   ],
   "source": [
    "#Cantidad de registros por cada tipo de victoria\n",
    "values_victory_status = pd.DataFrame(data_set_copy.victory_status.value_counts()).rename(columns={\"victory_status\":\"Total\"})\n",
    "values_victory_status = values_victory_status.rename_axis('victory_status')\n",
    "values_victory_status['%'] = (values_victory_status.Total / values_victory_status.Total.sum()) * 100\n",
    "values_victory_status"
   ]
  },
  {
   "cell_type": "code",
   "execution_count": 29,
   "id": "bed89bc3",
   "metadata": {
    "scrolled": true
   },
   "outputs": [
    {
     "data": {
      "image/png": "[encoded data removed]",
      "text/plain": [
       "<Figure size 360x360 with 1 Axes>"
      ]
     },
     "metadata": {},
     "output_type": "display_data"
    }
   ],
   "source": [
    "plt.figure(figsize=(5,5))\n",
    "plt.pie(values_victory_status.Total, labels=['resign', 'mate', 'outoftime', 'draw'])\n",
    "plt.legend()\n",
    "plt.show()"
   ]
  },
  {
   "cell_type": "markdown",
   "id": "2fc86dd7",
   "metadata": {},
   "source": [
    "#### Conclusiones:\n",
    "\n",
    "Más de la mitad de las partidas son abandonadas, además, cerca del 30% de las victorias son por **mate**."
   ]
  },
  {
   "cell_type": "code",
   "execution_count": null,
   "id": "e0af9d14",
   "metadata": {},
   "outputs": [],
   "source": []
  },
  {
   "cell_type": "code",
   "execution_count": null,
   "id": "9858310b",
   "metadata": {},
   "outputs": [],
   "source": []
  },
  {
   "cell_type": "code",
   "execution_count": null,
   "id": "a4d2f54c",
   "metadata": {},
   "outputs": [],
   "source": []
  },
  {
   "cell_type": "code",
   "execution_count": null,
   "id": "243a4e5f",
   "metadata": {},
   "outputs": [],
   "source": []
  },
  {
   "cell_type": "code",
   "execution_count": null,
   "id": "aed56553",
   "metadata": {},
   "outputs": [],
   "source": []
  },
  {
   "cell_type": "code",
   "execution_count": null,
   "id": "8cf8773c",
   "metadata": {},
   "outputs": [],
   "source": []
  },
  {
   "cell_type": "code",
   "execution_count": null,
   "id": "f5ad20aa",
   "metadata": {},
   "outputs": [],
   "source": []
  }
 ],
 "metadata": {
  "interpreter": {
   "hash": "55e8b4636261baa73e49021e29f783fb271540a785e01689a6458cff9898f8a3"
  },
  "kernelspec": {
   "display_name": "Python 3.10.4 ('explo')",
   "language": "python",
   "name": "python3"
  },
  "language_info": {
   "codemirror_mode": {
    "name": "ipython",
    "version": 3
   },
   "file_extension": ".py",
   "mimetype": "text/x-python",
   "name": "python",
   "nbconvert_exporter": "python",
   "pygments_lexer": "ipython3",
   "version": "3.10.4"
  },
  "toc-autonumbering": true,
  "toc-showcode": false,
  "toc-showmarkdowntxt": true
 },
 "nbformat": 4,
 "nbformat_minor": 5
}
